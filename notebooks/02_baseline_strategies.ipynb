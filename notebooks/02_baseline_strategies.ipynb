{
 "cells": [
  {
   "cell_type": "markdown",
   "metadata": {},
   "source": [
    "# 📈 Baseline Strategy Analysis\n",
    "\n",
    "**Project:** Deep Reinforcement Learning for Dynamic Asset Allocation  \n",
    "**Notebook:** 02 - Baseline Strategies  \n",
    "**Purpose:** Analyze and compare classical portfolio allocation strategies\n",
    "\n",
    "---"
   ]
  },
  {
   "cell_type": "markdown",
   "metadata": {},
   "source": [
    "## 1. Setup"
   ]
  },
  {
   "cell_type": "code",
   "execution_count": null,
   "metadata": {},
   "outputs": [],
   "source": [
    "import pandas as pd\n",
    "import numpy as np\n",
    "import matplotlib.pyplot as plt\n",
    "import seaborn as sns\n",
    "from pathlib import Path\n",
    "import sys\n",
    "\n",
    "# Add src to path\n",
    "sys.path.insert(0, str(Path.cwd().parent / 'src'))\n",
    "\n",
    "from baselines import (\n",
    "    MertonStrategy,\n",
    "    MeanVarianceStrategy,\n",
    "    EqualWeightStrategy,\n",
    "    BuyAndHoldStrategy,\n",
    "    RiskParityStrategy\n",
    ")\n",
    "\n",
    "plt.style.use('seaborn-v0_8-darkgrid')\n",
    "sns.set_palette('husl')\n",
    "\n",
    "print(\"✅ Imports complete\")"
   ]
  },
  {
   "cell_type": "markdown",
   "metadata": {},
   "source": [
    "## 2. Load Backtest Results"
   ]
  },
  {
   "cell_type": "code",
   "execution_count": null,
   "metadata": {},
   "outputs": [],
   "source": [
    "# Load comparison results\n",
    "results_path = '../simulations/baseline_results/baseline_comparison.csv'\n",
    "comparison_df = pd.read_csv(results_path)\n",
    "\n",
    "print(\"\\n\" + \"=\"*100)\n",
    "print(\"BASELINE STRATEGY PERFORMANCE (2014-2024)\")\n",
    "print(\"=\"*100)\n",
    "print(comparison_df.to_string(index=False))\n",
    "print(\"=\"*100)"
   ]
  },
  {
   "cell_type": "markdown",
   "metadata": {},
   "source": [
    "## 3. Load Individual Strategy Results"
   ]
  },
  {
   "cell_type": "code",
   "execution_count": null,
   "metadata": {},
   "outputs": [],
   "source": [
    "# Load portfolio values for each strategy\n",
    "strategies = ['merton', 'mean_variance', 'equal_weight', 'buy_and_hold', 'risk_parity']\n",
    "portfolio_values = {}\n",
    "weights_history = {}\n",
    "\n",
    "for strategy in strategies:\n",
    "    pv_path = f'../simulations/baseline_results/{strategy}/portfolio_values.csv'\n",
    "    wh_path = f'../simulations/baseline_results/{strategy}/weights_history.csv'\n",
    "    \n",
    "    portfolio_values[strategy] = pd.read_csv(pv_path)\n",
    "    weights_history[strategy] = pd.read_csv(wh_path)\n",
    "\n",
    "print(f\"\\n✅ Loaded {len(strategies)} strategy results\")"
   ]
  },
  {
   "cell_type": "markdown",
   "metadata": {},
   "source": [
    "## 4. Equity Curves Comparison"
   ]
  },
  {
   "cell_type": "code",
   "execution_count": null,
   "metadata": {},
   "outputs": [],
   "source": [
    "# Plot all equity curves\n",
    "fig, ax = plt.subplots(figsize=(14, 7))\n",
    "\n",
    "strategy_labels = {\n",
    "    'merton': 'Merton',\n",
    "    'mean_variance': 'Mean-Variance',\n",
    "    'equal_weight': 'Equal-Weight',\n",
    "    'buy_and_hold': 'Buy-and-Hold',\n",
    "    'risk_parity': 'Risk Parity'\n",
    "}\n",
    "\n",
    "for strategy in strategies:\n",
    "    pv = portfolio_values[strategy]['portfolio_value'].values\n",
    "    ax.plot(pv, label=strategy_labels[strategy], linewidth=2)\n",
    "\n",
    "ax.set_title('Baseline Strategy Equity Curves', fontsize=16, fontweight='bold')\n",
    "ax.set_xlabel('Trading Days', fontsize=12)\n",
    "ax.set_ylabel('Portfolio Value ($)', fontsize=12)\n",
    "ax.legend(loc='best', fontsize=11)\n",
    "ax.grid(True, alpha=0.3)\n",
    "ax.set_yscale('log')  # Log scale to see all strategies\n",
    "\n",
    "plt.tight_layout()\n",
    "plt.show()"
   ]
  },
  {
   "cell_type": "markdown",
   "metadata": {},
   "source": [
    "## 5. Risk-Return Analysis"
   ]
  },
  {
   "cell_type": "code",
   "execution_count": null,
   "metadata": {},
   "outputs": [],
   "source": [
    "# Risk-return scatter\n",
    "fig, ax = plt.subplots(figsize=(10, 7))\n",
    "\n",
    "annual_returns = comparison_df['Annual Return (%)'].values\n",
    "volatilities = comparison_df['Volatility (%)'].values\n",
    "names = comparison_df['Strategy'].values\n",
    "sharpes = comparison_df['Sharpe Ratio'].values\n",
    "\n",
    "scatter = ax.scatter(volatilities, annual_returns, \n",
    "                    s=400, c=sharpes, cmap='RdYlGn',\n",
    "                    alpha=0.6, edgecolors='black', linewidth=2)\n",
    "\n",
    "# Add labels\n",
    "for i, name in enumerate(names):\n",
    "    ax.annotate(name, (volatilities[i], annual_returns[i]),\n",
    "               xytext=(7, 7), textcoords='offset points', \n",
    "               fontsize=10, fontweight='bold')\n",
    "\n",
    "# Colorbar\n",
    "cbar = plt.colorbar(scatter, ax=ax)\n",
    "cbar.set_label('Sharpe Ratio', fontsize=11)\n",
    "\n",
    "ax.set_title('Risk-Return Profile (Baseline Strategies)', fontsize=16, fontweight='bold')\n",
    "ax.set_xlabel('Volatility (% p.a.)', fontsize=12)\n",
    "ax.set_ylabel('Annual Return (%)', fontsize=12)\n",
    "ax.grid(True, alpha=0.3)\n",
    "\n",
    "plt.tight_layout()\n",
    "plt.show()"
   ]
  },
  {
   "cell_type": "markdown",
   "metadata": {},
   "source": [
    "## 6. Weight Allocation Analysis"
   ]
  },
  {
   "cell_type": "code",
   "execution_count": null,
   "metadata": {},
   "outputs": [],
   "source": [
    "# Plot allocation patterns for dynamic strategies\n",
    "dynamic_strategies = ['merton', 'mean_variance', 'risk_parity']\n",
    "\n",
    "fig, axes = plt.subplots(len(dynamic_strategies), 1, figsize=(14, 12), sharex=True)\n",
    "\n",
    "asset_names = ['SPY', 'TLT', 'GLD', 'BTC']\n",
    "\n",
    "for i, strategy in enumerate(dynamic_strategies):\n",
    "    ax = axes[i]\n",
    "    weights = weights_history[strategy]\n",
    "    \n",
    "    # Stacked area plot\n",
    "    ax.stackplot(range(len(weights)), \n",
    "                weights.iloc[:, 0], weights.iloc[:, 1], \n",
    "                weights.iloc[:, 2], weights.iloc[:, 3],\n",
    "                labels=asset_names, alpha=0.8)\n",
    "    \n",
    "    ax.set_title(f'{strategy_labels[strategy]} - Asset Allocation', \n",
    "                fontsize=12, fontweight='bold')\n",
    "    ax.set_ylabel('Weight', fontsize=10)\n",
    "    ax.legend(loc='upper left', fontsize=9, ncol=4)\n",
    "    ax.grid(True, alpha=0.3)\n",
    "    ax.set_ylim(0, 1)\n",
    "\n",
    "axes[-1].set_xlabel('Trading Days', fontsize=12)\n",
    "\n",
    "plt.tight_layout()\n",
    "plt.show()"
   ]
  },
  {
   "cell_type": "markdown",
   "metadata": {},
   "source": [
    "## 7. Turnover Analysis"
   ]
  },
  {
   "cell_type": "code",
   "execution_count": null,
   "metadata": {},
   "outputs": [],
   "source": [
    "# Compare turnover rates\n",
    "fig, ax = plt.subplots(figsize=(10, 6))\n",
    "\n",
    "turnovers = comparison_df['Avg Turnover (%)'].values\n",
    "strategy_names = comparison_df['Strategy'].values\n",
    "\n",
    "colors = ['red' if t > 20 else 'green' for t in turnovers]\n",
    "\n",
    "bars = ax.barh(strategy_names, turnovers, color=colors, alpha=0.7, edgecolor='black')\n",
    "\n",
    "# Add value labels\n",
    "for i, (name, turnover) in enumerate(zip(strategy_names, turnovers)):\n",
    "    ax.text(turnover + 1, i, f'{turnover:.2f}%', \n",
    "           va='center', fontsize=10, fontweight='bold')\n",
    "\n",
    "ax.set_title('Average Daily Turnover by Strategy', fontsize=14, fontweight='bold')\n",
    "ax.set_xlabel('Average Turnover (%)', fontsize=12)\n",
    "ax.grid(True, alpha=0.3, axis='x')\n",
    "\n",
    "# Add annotation\n",
    "ax.text(0.98, 0.98, 'Red: High turnover\\nGreen: Low turnover',\n",
    "       transform=ax.transAxes, fontsize=9,\n",
    "       verticalalignment='top', horizontalalignment='right',\n",
    "       bbox=dict(boxstyle='round', facecolor='wheat', alpha=0.5))\n",
    "\n",
    "plt.tight_layout()\n",
    "plt.show()\n",
    "\n",
    "print(\"\\n💡 Turnover Insights:\")\n",
    "print(f\"   - Buy-and-Hold has 0% turnover (no rebalancing)\")\n",
    "print(f\"   - Equal-Weight has low turnover (~3%, only rebalances to maintain equal weights)\")\n",
    "print(f\"   - Mean-Variance has highest turnover (~52%, actively responds to market changes)\")\n",
    "print(f\"   - High turnover = higher transaction costs but potentially better risk management\")"
   ]
  },
  {
   "cell_type": "markdown",
   "metadata": {},
   "source": [
    "## 8. Drawdown Analysis"
   ]
  },
  {
   "cell_type": "code",
   "execution_count": null,
   "metadata": {},
   "outputs": [],
   "source": [
    "# Calculate and plot drawdowns\n",
    "fig, ax = plt.subplots(figsize=(14, 7))\n",
    "\n",
    "for strategy in strategies:\n",
    "    pv = portfolio_values[strategy]['portfolio_value'].values\n",
    "    \n",
    "    # Calculate drawdown\n",
    "    running_max = np.maximum.accumulate(pv)\n",
    "    drawdown = (pv - running_max) / running_max * 100\n",
    "    \n",
    "    ax.plot(drawdown, label=strategy_labels[strategy], linewidth=1.5, alpha=0.8)\n",
    "\n",
    "ax.set_title('Portfolio Drawdowns Over Time', fontsize=16, fontweight='bold')\n",
    "ax.set_xlabel('Trading Days', fontsize=12)\n",
    "ax.set_ylabel('Drawdown (%)', fontsize=12)\n",
    "ax.legend(loc='lower left', fontsize=11)\n",
    "ax.grid(True, alpha=0.3)\n",
    "ax.axhline(0, color='black', linestyle='--', linewidth=1)\n",
    "\n",
    "# Highlight major drawdown period (COVID-19)\n",
    "ax.axvspan(1300, 1400, alpha=0.2, color='red', label='COVID-19 Crash Period (approx.)')\n",
    "\n",
    "plt.tight_layout()\n",
    "plt.show()\n",
    "\n",
    "# Max drawdown comparison\n",
    "print(\"\\n\" + \"=\"*60)\n",
    "print(\"MAXIMUM DRAWDOWN COMPARISON\")\n",
    "print(\"=\"*60)\n",
    "for i, row in comparison_df.iterrows():\n",
    "    print(f\"{row['Strategy']:15s}: {row['Max Drawdown (%)']:6.2f}%\")\n",
    "print(\"=\"*60)"
   ]
  },
  {
   "cell_type": "markdown",
   "metadata": {},
   "source": [
    "## 9. Performance Metrics Radar Chart"
   ]
  },
  {
   "cell_type": "code",
   "execution_count": null,
   "metadata": {},
   "outputs": [],
   "source": [
    "# Create radar chart for performance comparison\n",
    "from math import pi\n",
    "\n",
    "# Normalize metrics to [0, 1]\n",
    "metrics = ['Sharpe Ratio', 'Sortino Ratio', 'Calmar Ratio', 'Win Rate (%)']\n",
    "normalized_data = {}\n",
    "\n",
    "for metric in metrics:\n",
    "    values = comparison_df[metric].values\n",
    "    normalized = (values - values.min()) / (values.max() - values.min())\n",
    "    normalized_data[metric] = normalized\n",
    "\n",
    "# Add inverted max drawdown (lower is better)\n",
    "dd_values = comparison_df['Max Drawdown (%)'].values\n",
    "normalized_data['Risk Control'] = 1 - (dd_values - dd_values.min()) / (dd_values.max() - dd_values.min())\n",
    "metrics.append('Risk Control')\n",
    "\n",
    "# Setup radar\n",
    "num_vars = len(metrics)\n",
    "angles = [n / float(num_vars) * 2 * pi for n in range(num_vars)]\n",
    "angles += angles[:1]\n",
    "\n",
    "fig, ax = plt.subplots(figsize=(10, 10), subplot_kw=dict(projection='polar'))\n",
    "\n",
    "for i, strategy in enumerate(strategies):\n",
    "    values = [normalized_data[metric][i] for metric in metrics]\n",
    "    values += values[:1]\n",
    "    \n",
    "    ax.plot(angles, values, 'o-', linewidth=2, label=strategy_labels[strategy])\n",
    "    ax.fill(angles, values, alpha=0.15)\n",
    "\n",
    "ax.set_xticks(angles[:-1])\n",
    "ax.set_xticklabels(metrics, fontsize=11)\n",
    "ax.set_ylim(0, 1)\n",
    "ax.set_yticks([0.2, 0.4, 0.6, 0.8, 1.0])\n",
    "ax.set_yticklabels(['0.2', '0.4', '0.6', '0.8', '1.0'], fontsize=9)\n",
    "ax.set_title('Baseline Strategies - Performance Metrics (Normalized)', \n",
    "            fontsize=14, fontweight='bold', pad=20)\n",
    "ax.legend(loc='upper right', bbox_to_anchor=(1.3, 1.1), fontsize=10)\n",
    "ax.grid(True)\n",
    "\n",
    "plt.tight_layout()\n",
    "plt.show()"
   ]
  },
  {
   "cell_type": "markdown",
   "metadata": {},
   "source": [
    "## 10. Strategy Rankings"
   ]
  },
  {
   "cell_type": "code",
   "execution_count": null,
   "metadata": {},
   "outputs": [],
   "source": [
    "# Rank strategies by different metrics\n",
    "ranking_metrics = [\n",
    "    ('Total Return (%)', False),  # False = higher is better\n",
    "    ('Sharpe Ratio', False),\n",
    "    ('Sortino Ratio', False),\n",
    "    ('Max Drawdown (%)', True),   # True = lower is better\n",
    "    ('Avg Turnover (%)', True)\n",
    "]\n",
    "\n",
    "print(\"\\n\" + \"=\"*80)\n",
    "print(\"STRATEGY RANKINGS BY METRIC\")\n",
    "print(\"=\"*80)\n",
    "\n",
    "for metric, ascending in ranking_metrics:\n",
    "    ranked = comparison_df.sort_values(metric, ascending=ascending)[['Strategy', metric]]\n",
    "    print(f\"\\n{metric}:\")\n",
    "    for i, row in ranked.iterrows():\n",
    "        print(f\"  {ranked.index.tolist().index(i)+1}. {row['Strategy']:15s}: {row[metric]:8.2f}\")\n",
    "\n",
    "print(\"\\n\" + \"=\"*80)"
   ]
  },
  {
   "cell_type": "markdown",
   "metadata": {},
   "source": [
    "## 11. Key Findings\n",
    "\n",
    "### Performance Summary:\n",
    "\n",
    "1. **Best Risk-Adjusted Returns:** Equal-Weight (Sharpe 0.845)\n",
    "   - Simple 1/N allocation performs remarkably well\n",
    "   - Low turnover (3.27%) keeps transaction costs minimal\n",
    "   - Consistently good across multiple metrics\n",
    "\n",
    "2. **Highest Total Returns:** Mean-Variance (1442.61%)\n",
    "   - Active optimization captures market opportunities\n",
    "   - Higher turnover (52.30%) implies higher transaction costs\n",
    "   - More volatile but highest absolute gains\n",
    "\n",
    "3. **Best Downside Protection:** Risk Parity (29.44% max drawdown)\n",
    "   - Volatility-weighting provides good risk control\n",
    "   - Moderate turnover (8.76%)\n",
    "   - Excellent Sharpe (0.723) and Sortino (1.074) ratios\n",
    "\n",
    "4. **Classical Benchmark:** Merton (Sharpe 0.778)\n",
    "   - Theoretical optimal control performs well\n",
    "   - Assumes constant parameters (limitation)\n",
    "   - Good baseline for comparison\n",
    "\n",
    "5. **Simplest Strategy:** Buy-and-Hold (Sharpe 0.597)\n",
    "   - Zero turnover = zero transaction costs\n",
    "   - Passive but reasonable performance\n",
    "   - Underperforms active strategies\n",
    "\n",
    "### Implications for RL:\n",
    "\n",
    "- **Target to beat:** Equal-Weight's Sharpe ratio of 0.845\n",
    "- **Turnover consideration:** RL agents should balance alpha generation vs. transaction costs\n",
    "- **Regime adaptation:** Classical strategies with fixed parameters leave room for RL improvement\n",
    "- **Risk management:** RL should aim for Risk Parity's drawdown control while improving returns\n",
    "\n",
    "---\n",
    "\n",
    "**Next:** Train RL agents and compare against these baselines (Notebooks 03-04)\n"
   ]
  }
 ],
 "metadata": {
  "kernelspec": {
   "display_name": "Python 3",
   "language": "python",
   "name": "python3"
  },
  "language_info": {
   "codemirror_mode": {
    "name": "ipython",
    "version": 3
   },
   "file_extension": ".py",
   "mimetype": "text/x-python",
   "name": "python",
   "nbconvert_exporter": "python",
   "pygments_lexer": "ipython3",
   "version": "3.9.0"
  }
 },
 "nbformat": 4,
 "nbformat_minor": 4
}
