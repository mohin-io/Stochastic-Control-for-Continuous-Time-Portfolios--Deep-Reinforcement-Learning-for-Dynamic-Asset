{
 "cells": [
  {
   "cell_type": "markdown",
   "metadata": {},
   "source": [
    "# 📊 Data Exploration and Visualization\n",
    "\n",
    "**Project:** Deep Reinforcement Learning for Dynamic Asset Allocation  \n",
    "**Notebook:** 01 - Data Exploration  \n",
    "**Purpose:** Explore market data, visualize asset characteristics, and understand regime patterns\n",
    "\n",
    "---"
   ]
  },
  {
   "cell_type": "markdown",
   "metadata": {},
   "source": [
    "## 1. Setup and Imports"
   ]
  },
  {
   "cell_type": "code",
   "execution_count": null,
   "metadata": {},
   "outputs": [],
   "source": [
    "import pandas as pd\n",
    "import numpy as np\n",
    "import matplotlib.pyplot as plt\n",
    "import seaborn as sns\n",
    "from pathlib import Path\n",
    "import warnings\n",
    "warnings.filterwarnings('ignore')\n",
    "\n",
    "# Set style\n",
    "plt.style.use('seaborn-v0_8-darkgrid')\n",
    "sns.set_palette('husl')\n",
    "\n",
    "# Configure pandas display\n",
    "pd.set_option('display.max_columns', None)\n",
    "pd.set_option('display.precision', 4)\n",
    "\n",
    "print(\"✅ Imports complete\")"
   ]
  },
  {
   "cell_type": "markdown",
   "metadata": {},
   "source": [
    "## 2. Load Data"
   ]
  },
  {
   "cell_type": "code",
   "execution_count": null,
   "metadata": {},
   "outputs": [],
   "source": [
    "# Load complete dataset\n",
    "data_path = '../data/processed/complete_dataset.csv'\n",
    "df = pd.read_csv(data_path, index_col=0, parse_dates=True)\n",
    "\n",
    "print(f\"📅 Date range: {df.index[0]} to {df.index[-1]}\")\n",
    "print(f\"📊 Shape: {df.shape}\")\n",
    "print(f\"📈 Columns: {df.columns.tolist()}\")\n",
    "\n",
    "df.head()"
   ]
  },
  {
   "cell_type": "markdown",
   "metadata": {},
   "source": [
    "## 3. Data Summary Statistics"
   ]
  },
  {
   "cell_type": "code",
   "execution_count": null,
   "metadata": {},
   "outputs": [],
   "source": [
    "# Summary statistics\n",
    "print(\"\\n\" + \"=\"*80)\n",
    "print(\"PRICE STATISTICS\")\n",
    "print(\"=\"*80)\n",
    "\n",
    "price_cols = [col for col in df.columns if col.startswith('price_')]\n",
    "df[price_cols].describe()"
   ]
  },
  {
   "cell_type": "code",
   "execution_count": null,
   "metadata": {},
   "outputs": [],
   "source": [
    "print(\"\\n\" + \"=\"*80)\n",
    "print(\"RETURN STATISTICS\")\n",
    "print(\"=\"*80)\n",
    "\n",
    "return_cols = [col for col in df.columns if col.startswith('return_')]\n",
    "df[return_cols].describe()"
   ]
  },
  {
   "cell_type": "markdown",
   "metadata": {},
   "source": [
    "## 4. Asset Price Evolution"
   ]
  },
  {
   "cell_type": "code",
   "execution_count": null,
   "metadata": {},
   "outputs": [],
   "source": [
    "# Plot normalized prices (all start at 100)\n",
    "fig, ax = plt.subplots(figsize=(14, 6))\n",
    "\n",
    "for col in price_cols:\n",
    "    normalized = 100 * df[col] / df[col].iloc[0]\n",
    "    asset_name = col.replace('price_', '')\n",
    "    ax.plot(df.index, normalized, label=asset_name, linewidth=2)\n",
    "\n",
    "ax.set_title('Normalized Asset Prices (Base = 100)', fontsize=16, fontweight='bold')\n",
    "ax.set_xlabel('Date', fontsize=12)\n",
    "ax.set_ylabel('Normalized Price', fontsize=12)\n",
    "ax.legend(loc='best', fontsize=11)\n",
    "ax.grid(True, alpha=0.3)\n",
    "\n",
    "# Highlight major events\n",
    "ax.axvline(pd.Timestamp('2020-03-01'), color='red', linestyle='--', alpha=0.5, label='COVID-19 Crash')\n",
    "\n",
    "plt.tight_layout()\n",
    "plt.show()\n",
    "\n",
    "# Calculate total returns\n",
    "print(\"\\n\" + \"=\"*80)\n",
    "print(\"TOTAL RETURNS (Buy-and-Hold)\")\n",
    "print(\"=\"*80)\n",
    "\n",
    "for col in price_cols:\n",
    "    asset_name = col.replace('price_', '')\n",
    "    total_return = (df[col].iloc[-1] / df[col].iloc[0] - 1) * 100\n",
    "    print(f\"{asset_name:8s}: {total_return:8.2f}%\")"
   ]
  },
  {
   "cell_type": "markdown",
   "metadata": {},
   "source": [
    "## 5. Return Distribution Analysis"
   ]
  },
  {
   "cell_type": "code",
   "execution_count": null,
   "metadata": {},
   "outputs": [],
   "source": [
    "# Plot return distributions\n",
    "fig, axes = plt.subplots(2, 2, figsize=(14, 10))\n",
    "axes = axes.flatten()\n",
    "\n",
    "for i, col in enumerate(return_cols):\n",
    "    asset_name = col.replace('return_', '')\n",
    "    \n",
    "    # Histogram + KDE\n",
    "    axes[i].hist(df[col].dropna(), bins=50, alpha=0.6, edgecolor='black', density=True)\n",
    "    df[col].plot(kind='kde', ax=axes[i], color='red', linewidth=2)\n",
    "    \n",
    "    # Statistics\n",
    "    mean = df[col].mean()\n",
    "    std = df[col].std()\n",
    "    skew = df[col].skew()\n",
    "    kurt = df[col].kurtosis()\n",
    "    \n",
    "    axes[i].set_title(f'{asset_name} Daily Returns', fontsize=12, fontweight='bold')\n",
    "    axes[i].set_xlabel('Return', fontsize=10)\n",
    "    axes[i].set_ylabel('Density', fontsize=10)\n",
    "    \n",
    "    # Add text box with stats\n",
    "    stats_text = f'μ={mean:.4f}\\nσ={std:.4f}\\nSkew={skew:.2f}\\nKurt={kurt:.2f}'\n",
    "    axes[i].text(0.02, 0.98, stats_text, transform=axes[i].transAxes,\n",
    "                 fontsize=9, verticalalignment='top',\n",
    "                 bbox=dict(boxstyle='round', facecolor='wheat', alpha=0.5))\n",
    "    axes[i].grid(True, alpha=0.3)\n",
    "\n",
    "plt.tight_layout()\n",
    "plt.show()"
   ]
  },
  {
   "cell_type": "markdown",
   "metadata": {},
   "source": [
    "## 6. Correlation Analysis"
   ]
  },
  {
   "cell_type": "code",
   "execution_count": null,
   "metadata": {},
   "outputs": [],
   "source": [
    "# Correlation matrix\n",
    "corr_matrix = df[return_cols].corr()\n",
    "\n",
    "# Rename for display\n",
    "asset_names = [col.replace('return_', '') for col in return_cols]\n",
    "corr_matrix.index = asset_names\n",
    "corr_matrix.columns = asset_names\n",
    "\n",
    "# Plot heatmap\n",
    "fig, ax = plt.subplots(figsize=(10, 8))\n",
    "sns.heatmap(corr_matrix, annot=True, fmt='.3f', cmap='coolwarm', \n",
    "            center=0, square=True, linewidths=1, cbar_kws={\"shrink\": 0.8})\n",
    "ax.set_title('Asset Return Correlations', fontsize=16, fontweight='bold')\n",
    "plt.tight_layout()\n",
    "plt.show()\n",
    "\n",
    "print(\"\\n📊 Correlation Insights:\")\n",
    "print(f\"   - SPY-TLT correlation: {corr_matrix.loc['SPY', 'TLT']:.3f} (flight-to-safety effect)\")\n",
    "print(f\"   - SPY-GLD correlation: {corr_matrix.loc['SPY', 'GLD']:.3f} (gold as diversifier)\")\n",
    "print(f\"   - SPY-BTC correlation: {corr_matrix.loc['SPY', 'BTC-USD']:.3f} (crypto vs traditional)\")"
   ]
  },
  {
   "cell_type": "markdown",
   "metadata": {},
   "source": [
    "## 7. Rolling Volatility"
   ]
  },
  {
   "cell_type": "code",
   "execution_count": null,
   "metadata": {},
   "outputs": [],
   "source": [
    "# Calculate rolling 30-day volatility (annualized)\n",
    "window = 30\n",
    "rolling_vol = df[return_cols].rolling(window=window).std() * np.sqrt(252)\n",
    "\n",
    "# Plot\n",
    "fig, ax = plt.subplots(figsize=(14, 6))\n",
    "\n",
    "for col in return_cols:\n",
    "    asset_name = col.replace('return_', '')\n",
    "    ax.plot(df.index, rolling_vol[col], label=asset_name, linewidth=1.5)\n",
    "\n",
    "ax.set_title(f'{window}-Day Rolling Volatility (Annualized)', fontsize=16, fontweight='bold')\n",
    "ax.set_xlabel('Date', fontsize=12)\n",
    "ax.set_ylabel('Volatility (annualized)', fontsize=12)\n",
    "ax.legend(loc='best', fontsize=11)\n",
    "ax.grid(True, alpha=0.3)\n",
    "\n",
    "# Highlight COVID-19 period\n",
    "ax.axvspan(pd.Timestamp('2020-02-01'), pd.Timestamp('2020-04-30'), \n",
    "           alpha=0.2, color='red', label='COVID-19 Volatility Spike')\n",
    "\n",
    "plt.tight_layout()\n",
    "plt.show()"
   ]
  },
  {
   "cell_type": "markdown",
   "metadata": {},
   "source": [
    "## 8. Market Regime Analysis"
   ]
  },
  {
   "cell_type": "code",
   "execution_count": null,
   "metadata": {},
   "outputs": [],
   "source": [
    "# Check if regime data exists\n",
    "regime_col = None\n",
    "for col in ['regime_gmm', 'regime_hmm', 'regime']:\n",
    "    if col in df.columns:\n",
    "        regime_col = col\n",
    "        break\n",
    "\n",
    "if regime_col:\n",
    "    print(f\"✅ Found regime column: {regime_col}\\n\")\n",
    "    \n",
    "    # Regime distribution\n",
    "    regime_counts = df[regime_col].value_counts().sort_index()\n",
    "    print(\"Regime Distribution:\")\n",
    "    print(regime_counts)\n",
    "    print(f\"\\nRegime proportions:\")\n",
    "    print(regime_counts / len(df) * 100)\n",
    "    \n",
    "    # Visualize regimes over time\n",
    "    fig, axes = plt.subplots(2, 1, figsize=(14, 10), sharex=True)\n",
    "    \n",
    "    # Panel 1: SPY price with regime background\n",
    "    ax1 = axes[0]\n",
    "    ax1.plot(df.index, df['price_SPY'], color='black', linewidth=1.5, label='SPY Price')\n",
    "    \n",
    "    # Color background by regime\n",
    "    regime_colors = {0: 'red', 1: 'yellow', 2: 'green'}\n",
    "    regime_labels = {0: 'Bear/Volatile', 1: 'Transitional', 2: 'Bull'}\n",
    "    \n",
    "    for regime in [0, 1, 2]:\n",
    "        regime_mask = df[regime_col] == regime\n",
    "        regime_dates = df.index[regime_mask]\n",
    "        \n",
    "        for date in regime_dates:\n",
    "            ax1.axvspan(date, date + pd.Timedelta(days=1), \n",
    "                       alpha=0.2, color=regime_colors[regime])\n",
    "    \n",
    "    ax1.set_title('SPY Price with Market Regimes', fontsize=14, fontweight='bold')\n",
    "    ax1.set_ylabel('Price ($)', fontsize=12)\n",
    "    ax1.legend(loc='upper left', fontsize=10)\n",
    "    ax1.grid(True, alpha=0.3)\n",
    "    \n",
    "    # Panel 2: Regime over time\n",
    "    ax2 = axes[1]\n",
    "    ax2.plot(df.index, df[regime_col], color='blue', linewidth=1, alpha=0.7)\n",
    "    ax2.fill_between(df.index, df[regime_col], alpha=0.3)\n",
    "    ax2.set_title('Market Regime Classification', fontsize=14, fontweight='bold')\n",
    "    ax2.set_xlabel('Date', fontsize=12)\n",
    "    ax2.set_ylabel('Regime', fontsize=12)\n",
    "    ax2.set_yticks([0, 1, 2])\n",
    "    ax2.set_yticklabels(['Bear/Volatile', 'Transitional', 'Bull'])\n",
    "    ax2.grid(True, alpha=0.3)\n",
    "    \n",
    "    plt.tight_layout()\n",
    "    plt.show()\n",
    "    \n",
    "    # Regime-conditional statistics\n",
    "    print(\"\\n\" + \"=\"*80)\n",
    "    print(\"REGIME-CONDITIONAL RETURNS (SPY)\")\n",
    "    print(\"=\"*80)\n",
    "    \n",
    "    for regime in [0, 1, 2]:\n",
    "        regime_mask = df[regime_col] == regime\n",
    "        regime_returns = df.loc[regime_mask, 'return_SPY']\n",
    "        \n",
    "        print(f\"\\nRegime {regime} ({regime_labels[regime]}):\")\n",
    "        print(f\"  Mean return: {regime_returns.mean():.6f} ({regime_returns.mean()*252*100:.2f}% annualized)\")\n",
    "        print(f\"  Volatility:  {regime_returns.std():.6f} ({regime_returns.std()*np.sqrt(252)*100:.2f}% annualized)\")\n",
    "        print(f\"  Days: {len(regime_returns)}\")\n",
    "else:\n",
    "    print(\"⚠️ No regime data found in dataset\")"
   ]
  },
  {
   "cell_type": "markdown",
   "metadata": {},
   "source": [
    "## 9. VIX and Macro Indicators"
   ]
  },
  {
   "cell_type": "code",
   "execution_count": null,
   "metadata": {},
   "outputs": [],
   "source": [
    "# Plot VIX if available\n",
    "if 'VIX' in df.columns:\n",
    "    fig, axes = plt.subplots(2, 1, figsize=(14, 10), sharex=True)\n",
    "    \n",
    "    # Panel 1: SPY vs VIX\n",
    "    ax1 = axes[0]\n",
    "    ax1_twin = ax1.twinx()\n",
    "    \n",
    "    ax1.plot(df.index, df['price_SPY'], color='blue', linewidth=1.5, label='SPY')\n",
    "    ax1_twin.plot(df.index, df['VIX'], color='red', linewidth=1.5, label='VIX', alpha=0.7)\n",
    "    \n",
    "    ax1.set_ylabel('SPY Price ($)', fontsize=12, color='blue')\n",
    "    ax1_twin.set_ylabel('VIX Level', fontsize=12, color='red')\n",
    "    ax1.set_title('SPY Price vs VIX (Fear Index)', fontsize=14, fontweight='bold')\n",
    "    ax1.grid(True, alpha=0.3)\n",
    "    \n",
    "    # Panel 2: VIX histogram\n",
    "    ax2 = axes[1]\n",
    "    ax2.hist(df['VIX'].dropna(), bins=50, edgecolor='black', alpha=0.7, color='red')\n",
    "    ax2.axvline(df['VIX'].mean(), color='blue', linestyle='--', linewidth=2, label=f'Mean: {df[\"VIX\"].mean():.2f}')\n",
    "    ax2.axvline(30, color='orange', linestyle='--', linewidth=2, label='High Vol Threshold (30)')\n",
    "    ax2.set_title('VIX Distribution', fontsize=14, fontweight='bold')\n",
    "    ax2.set_xlabel('VIX Level', fontsize=12)\n",
    "    ax2.set_ylabel('Frequency', fontsize=12)\n",
    "    ax2.legend(fontsize=10)\n",
    "    ax2.grid(True, alpha=0.3)\n",
    "    \n",
    "    plt.tight_layout()\n",
    "    plt.show()\n",
    "    \n",
    "    print(f\"\\n📊 VIX Statistics:\")\n",
    "    print(f\"   Mean: {df['VIX'].mean():.2f}\")\n",
    "    print(f\"   Std:  {df['VIX'].std():.2f}\")\n",
    "    print(f\"   Max:  {df['VIX'].max():.2f} (reached on {df['VIX'].idxmax()})\")\n",
    "    print(f\"   Days with VIX > 30: {(df['VIX'] > 30).sum()} ({(df['VIX'] > 30).sum() / len(df) * 100:.1f}%)\")\n",
    "else:\n",
    "    print(\"⚠️ VIX data not found\")"
   ]
  },
  {
   "cell_type": "markdown",
   "metadata": {},
   "source": [
    "## 10. Summary Statistics Table"
   ]
  },
  {
   "cell_type": "code",
   "execution_count": null,
   "metadata": {},
   "outputs": [],
   "source": [
    "# Create comprehensive summary table\n",
    "summary_stats = []\n",
    "\n",
    "for i, ret_col in enumerate(return_cols):\n",
    "    asset_name = ret_col.replace('return_', '')\n",
    "    price_col = f'price_{asset_name}'\n",
    "    \n",
    "    returns = df[ret_col].dropna()\n",
    "    \n",
    "    # Calculate metrics\n",
    "    total_return = (df[price_col].iloc[-1] / df[price_col].iloc[0] - 1) * 100\n",
    "    annual_return = returns.mean() * 252 * 100\n",
    "    annual_vol = returns.std() * np.sqrt(252) * 100\n",
    "    sharpe = (returns.mean() / returns.std()) * np.sqrt(252) if returns.std() > 0 else 0\n",
    "    \n",
    "    # Downside metrics\n",
    "    downside_returns = returns[returns < 0]\n",
    "    downside_vol = downside_returns.std() * np.sqrt(252) * 100 if len(downside_returns) > 0 else 0\n",
    "    sortino = (returns.mean() / downside_returns.std()) * np.sqrt(252) if len(downside_returns) > 0 and downside_returns.std() > 0 else 0\n",
    "    \n",
    "    # Drawdown\n",
    "    cum_returns = (1 + returns).cumprod()\n",
    "    running_max = cum_returns.expanding().max()\n",
    "    drawdown = (cum_returns - running_max) / running_max\n",
    "    max_dd = drawdown.min() * 100\n",
    "    \n",
    "    summary_stats.append({\n",
    "        'Asset': asset_name,\n",
    "        'Total Return (%)': total_return,\n",
    "        'Annual Return (%)': annual_return,\n",
    "        'Volatility (%)': annual_vol,\n",
    "        'Sharpe Ratio': sharpe,\n",
    "        'Sortino Ratio': sortino,\n",
    "        'Max Drawdown (%)': max_dd,\n",
    "        'Skewness': returns.skew(),\n",
    "        'Kurtosis': returns.kurtosis()\n",
    "    })\n",
    "\n",
    "summary_df = pd.DataFrame(summary_stats)\n",
    "summary_df = summary_df.sort_values('Sharpe Ratio', ascending=False)\n",
    "\n",
    "print(\"\\n\" + \"=\"*100)\n",
    "print(\"COMPREHENSIVE ASSET STATISTICS (2014-2024)\")\n",
    "print(\"=\"*100)\n",
    "print(summary_df.to_string(index=False))\n",
    "print(\"=\"*100)"
   ]
  },
  {
   "cell_type": "markdown",
   "metadata": {},
   "source": [
    "## 11. Conclusions\n",
    "\n",
    "### Key Insights:\n",
    "\n",
    "1. **Asset Characteristics:**\n",
    "   - **SPY (S&P 500)**: Strong returns, moderate volatility, positive skew\n",
    "   - **TLT (Bonds)**: Lower returns, lower volatility, flight-to-safety behavior\n",
    "   - **GLD (Gold)**: Diversification benefits, negative correlation with equities during stress\n",
    "   - **BTC-USD**: Highest returns and volatility, emerging asset class\n",
    "\n",
    "2. **Correlations:**\n",
    "   - SPY and TLT show negative correlation (classic stock-bond diversification)\n",
    "   - Gold provides uncorrelated returns (portfolio hedge)\n",
    "   - Bitcoin correlation with traditional assets varies over time\n",
    "\n",
    "3. **Market Regimes:**\n",
    "   - Clear regime shifts visible (bull, bear, transitional)\n",
    "   - Regime detection captures major market events (2020 COVID, etc.)\n",
    "   - Return distributions differ significantly across regimes\n",
    "\n",
    "4. **Volatility Patterns:**\n",
    "   - Volatility clustering is evident (GARCH effects)\n",
    "   - Major spikes during crisis periods (2020 COVID)\n",
    "   - VIX inversely correlated with SPY (fear gauge)\n",
    "\n",
    "5. **Implications for RL:**\n",
    "   - Time-varying correlations justify adaptive allocation\n",
    "   - Regime information should improve agent performance\n",
    "   - Risk-adjusted returns (Sharpe) vary significantly by asset\n",
    "   - Fat tails and skewness require robust risk management\n",
    "\n",
    "---\n",
    "\n",
    "**Next Steps:**\n",
    "- Analyze baseline strategy performance (Notebook 02)\n",
    "- Train RL agents with regime-augmented state (Scripts)\n",
    "- Compare RL vs classical strategies (Notebook 04)\n"
   ]
  },
  {
   "cell_type": "code",
   "execution_count": null,
   "metadata": {},
   "outputs": [],
   "source": [
    "# Save summary table\n",
    "output_path = '../docs/data_summary_statistics.csv'\n",
    "summary_df.to_csv(output_path, index=False)\n",
    "print(f\"\\n✅ Summary statistics saved to {output_path}\")"
   ]
  }
 ],
 "metadata": {
  "kernelspec": {
   "display_name": "Python 3",
   "language": "python",
   "name": "python3"
  },
  "language_info": {
   "codemirror_mode": {
    "name": "ipython",
    "version": 3
   },
   "file_extension": ".py",
   "mimetype": "text/x-python",
   "name": "python",
   "nbconvert_exporter": "python",
   "pygments_lexer": "ipython3",
   "version": "3.9.0"
  }
 },
 "nbformat": 4,
 "nbformat_minor": 4
}
